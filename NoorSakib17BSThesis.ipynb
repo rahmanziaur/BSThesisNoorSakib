{
  "nbformat": 4,
  "nbformat_minor": 0,
  "metadata": {
    "colab": {
      "provenance": [],
      "mount_file_id": "1CGmcM--KMQ8um0xF75M5-lbilA3PBJC-",
      "authorship_tag": "ABX9TyOm+WOCSgHHaIqTGq0yHBk5",
      "include_colab_link": true
    },
    "kernelspec": {
      "name": "python3",
      "display_name": "Python 3"
    },
    "language_info": {
      "name": "python"
    }
  },
  "cells": [
    {
      "cell_type": "markdown",
      "metadata": {
        "id": "view-in-github",
        "colab_type": "text"
      },
      "source": [
        "<a href=\"https://colab.research.google.com/github/rahmanziaur/BSThesisNoorSakib/blob/main/NoorSakib17BSThesis.ipynb\" target=\"_parent\"><img src=\"https://colab.research.google.com/assets/colab-badge.svg\" alt=\"Open In Colab\"/></a>"
      ]
    },
    {
      "cell_type": "markdown",
      "source": [
        "**Research Method for Sciences**"
      ],
      "metadata": {
        "id": "0KiehPytNrs-"
      }
    },
    {
      "cell_type": "markdown",
      "source": [
        "LMU -Germany - Preasentation Resources\n",
        "\n",
        "https://www.geophysik.uni-muenchen.de/~valerian/Scientific_Working/\n"
      ],
      "metadata": {
        "id": "bBe6gdWoNxoH"
      }
    },
    {
      "cell_type": "code",
      "execution_count": null,
      "metadata": {
        "id": "k3GerBVdNmvj"
      },
      "outputs": [],
      "source": []
    }
  ]
}